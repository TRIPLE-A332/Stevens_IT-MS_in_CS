{
 "cells": [
  {
   "cell_type": "markdown",
   "id": "17253117",
   "metadata": {},
   "source": [
    "# <center>Lecture 05: Neural Networks</center>"
   ]
  },
  {
   "cell_type": "markdown",
   "id": "643a673c",
   "metadata": {},
   "source": [
    "## 1. Simple Neural Network Regression Example"
   ]
  },
  {
   "cell_type": "code",
   "execution_count": 1,
   "id": "be4350d7",
   "metadata": {},
   "outputs": [],
   "source": [
    "import numpy as np\n",
    "import matplotlib.pyplot as plt\n",
    "from sklearn.model_selection import train_test_split"
   ]
  },
  {
   "cell_type": "code",
   "execution_count": 2,
   "id": "7236b49f",
   "metadata": {},
   "outputs": [],
   "source": [
    "np.random.seed(124)\n",
    "num_obs = 100\n",
    "mean = 0.0\n",
    "std_dev = 0.1\n",
    "X = np.random.rand(num_obs) * 2 * np.pi\n",
    "y = np.sin(X) + np.random.normal(mean, std_dev, num_obs)\n",
    "X, X_test, y, y_test = train_test_split(X, y, test_size=0.2, random_state=42)"
   ]
  },
  {
   "cell_type": "code",
   "execution_count": 3,
   "id": "203fc874",
   "metadata": {},
   "outputs": [],
   "source": [
    "from sklearn.linear_model import LinearRegression\n",
    "from sklearn.metrics import root_mean_squared_error"
   ]
  },
  {
   "cell_type": "code",
   "execution_count": 4,
   "id": "deb78fca",
   "metadata": {},
   "outputs": [
    {
     "name": "stdout",
     "output_type": "stream",
     "text": [
      "Train RMSE = 0.4296\n",
      "Test RMSE = 0.5024\n"
     ]
    }
   ],
   "source": [
    "X = X.reshape(-1, 1)\n",
    "X_test = X_test.reshape(-1, 1)\n",
    "lin_reg = LinearRegression()\n",
    "lin_reg.fit(X, y)\n",
    "h = lin_reg.predict(X)\n",
    "rmse = root_mean_squared_error(y, h)\n",
    "print(f'Train RMSE = {rmse:.4f}')\n",
    "h_test = lin_reg.predict(X_test)\n",
    "rmse = root_mean_squared_error(y_test, h_test)\n",
    "print(f'Test RMSE = {rmse:.4f}')"
   ]
  },
  {
   "cell_type": "code",
   "execution_count": 5,
   "id": "5b8163b4",
   "metadata": {},
   "outputs": [],
   "source": [
    "from sklearn.neural_network import MLPRegressor"
   ]
  },
  {
   "cell_type": "code",
   "execution_count": 6,
   "id": "a02aa6d0",
   "metadata": {},
   "outputs": [
    {
     "name": "stdout",
     "output_type": "stream",
     "text": [
      "n_iter = 200\n",
      "number of layers = 3\n",
      "coefficient size = [(1, 100), (100, 1)]\n",
      "Train RMSE = 0.3381\n",
      "Test RMSE = 0.4015\n"
     ]
    },
    {
     "name": "stderr",
     "output_type": "stream",
     "text": [
      "c:\\Users\\abdul\\anaconda3\\Lib\\site-packages\\sklearn\\neural_network\\_multilayer_perceptron.py:690: ConvergenceWarning: Stochastic Optimizer: Maximum iterations (200) reached and the optimization hasn't converged yet.\n",
      "  warnings.warn(\n"
     ]
    }
   ],
   "source": [
    "nn = MLPRegressor()\n",
    "nn.fit(X, y)\n",
    "print(f'n_iter = {nn.n_iter_}')\n",
    "print(f'number of layers = {nn.n_layers_}')\n",
    "print(f'coefficient size = {[coef.shape for coef in nn.coefs_]}')\n",
    "h_nn = nn.predict(X)\n",
    "rmse = root_mean_squared_error(y, h_nn)\n",
    "print(f'Train RMSE = {rmse:.4f}')\n",
    "h_nn_test = nn.predict(X_test)\n",
    "rmse = root_mean_squared_error(y_test, h_nn_test)\n",
    "print(f'Test RMSE = {rmse:.4f}')"
   ]
  },
  {
   "cell_type": "markdown",
   "id": "617a6d70",
   "metadata": {},
   "source": [
    "## 2. Scikit-learn Neural Network with GridSearchCV\n",
    "\n",
    "* Classification: https://scikit-learn.org/stable/modules/generated/sklearn.neural_network.MLPClassifier.html\n",
    "\n",
    "* Regression: https://scikit-learn.org/stable/modules/generated/sklearn.neural_network.MLPRegressor.html\n",
    "\n",
    "* GridSearchCV: https://scikit-learn.org/dev/modules/generated/sklearn.model_selection.GridSearchCV.html"
   ]
  },
  {
   "cell_type": "code",
   "execution_count": 126,
   "id": "d6f8080e",
   "metadata": {},
   "outputs": [
    {
     "name": "stdout",
     "output_type": "stream",
     "text": [
      "activation = tanh\n",
      "n_iter = 21\n",
      "number of layers = 3\n",
      "coefficient size = [(1, 100), (100, 1)]\n",
      "Train RMSE = 0.4377\n",
      "Test RMSE = 0.5370\n",
      "---------\n",
      "activation = logistic\n",
      "n_iter = 46\n",
      "number of layers = 3\n",
      "coefficient size = [(1, 100), (100, 1)]\n",
      "Train RMSE = 0.4272\n",
      "Test RMSE = 0.5208\n",
      "---------\n",
      "activation = relu\n",
      "n_iter = 235\n",
      "number of layers = 3\n",
      "coefficient size = [(1, 100), (100, 1)]\n",
      "Train RMSE = 0.1074\n",
      "Test RMSE = 0.1239\n",
      "---------\n"
     ]
    }
   ],
   "source": [
    "activations = ['tanh', 'logistic', 'relu']\n",
    "for activation in activations:\n",
    "    nn = MLPRegressor(max_iter = 200000, activation=activation, solver = 'adam', \n",
    "                      learning_rate_init = 0.01, learning_rate = 'constant')\n",
    "    nn.fit(X, y)\n",
    "    print(f'activation = {activation}')\n",
    "    print(f'n_iter = {nn.n_iter_}')\n",
    "    print(f'number of layers = {nn.n_layers_}')\n",
    "    print(f'coefficient size = {[coef.shape for coef in nn.coefs_]}')\n",
    "    print(f'Train RMSE = {root_mean_squared_error(y, nn.predict(X)):.4f}')\n",
    "    print(f'Test RMSE = {root_mean_squared_error(y_test, nn.predict(X_test)):.4f}')\n",
    "    print(f'---------')    "
   ]
  },
  {
   "cell_type": "code",
   "execution_count": 7,
   "id": "55073b6f",
   "metadata": {},
   "outputs": [],
   "source": [
    "from sklearn.model_selection import GridSearchCV"
   ]
  },
  {
   "cell_type": "code",
   "execution_count": 8,
   "id": "7380db0f",
   "metadata": {},
   "outputs": [
    {
     "name": "stdout",
     "output_type": "stream",
     "text": [
      "Fitting 5 folds for each of 15 candidates, totalling 75 fits\n"
     ]
    },
    {
     "data": {
      "text/plain": [
       "{'activation': 'relu', 'hidden_layer_sizes': (100, 100)}"
      ]
     },
     "execution_count": 8,
     "metadata": {},
     "output_type": "execute_result"
    }
   ],
   "source": [
    "nn_param = {'activation': ['tanh','logistic','relu'], 'hidden_layer_sizes':[(50,),(100,),(1000,),(200,100),(100,100)]}\n",
    "nn = MLPRegressor(max_iter=200000, solver='adam',\n",
    "                      learning_rate_init = 0.01, learning_rate = 'constant')\n",
    "nn_cv = GridSearchCV(nn, nn_param, cv=5, verbose=1)\n",
    "nn_cv.fit(X,y)\n",
    "nn_cv.best_params_"
   ]
  },
  {
   "cell_type": "code",
   "execution_count": 9,
   "id": "5a4bb8ee",
   "metadata": {},
   "outputs": [
    {
     "name": "stdout",
     "output_type": "stream",
     "text": [
      "n_iter = 121\n",
      "number of layers = 4\n",
      "coefficient size = [(1, 100), (100, 100), (100, 1)]\n",
      "Train RMSE = 0.0935\n",
      "Test RMSE = 0.1000\n"
     ]
    }
   ],
   "source": [
    "nn = nn_cv.best_estimator_\n",
    "print(f'n_iter = {nn.n_iter_}')\n",
    "print(f'number of layers = {nn.n_layers_}')\n",
    "print(f'coefficient size = {[coef.shape for coef in nn.coefs_]}')\n",
    "y_pred = nn.predict(X)\n",
    "rmse = root_mean_squared_error(y, y_pred)\n",
    "print(f'Train RMSE = {rmse:.4f}')\n",
    "y_pred_test = nn.predict(X_test)\n",
    "rmse = root_mean_squared_error(y_test, y_pred_test)\n",
    "print(f'Test RMSE = {rmse:.4f}')"
   ]
  },
  {
   "cell_type": "code",
   "execution_count": null,
   "id": "741ca7a6",
   "metadata": {},
   "outputs": [
    {
     "data": {
      "image/png": "[encoded data removed]",
      "text/plain": [
       "<Figure size 500x500 with 1 Axes>"
      ]
     },
     "metadata": {},
     "output_type": "display_data"
    },
    {
     "name": "stdout",
     "output_type": "stream",
     "text": [
      "linear regression,rmse=0.4296\n",
      "neural network,rmse=0.3381\n",
      "gridsearchcv,rmse=0.0935\n"
     ]
    }
   ],
   "source": [
    "X = X.flatten()\n",
    "sort_indices = np.argsort(X)\n",
    "X = X[sort_indices]\n",
    "y = y[sort_indices]\n",
    "h = h.flatten()[sort_indices]\n",
    "h_nn = h_nn.flatten()[sort_indices]\n",
    "y_pred = y_pred.flatten()[sort_indices]\n",
    "plt.figure(figsize=(5, 5))\n",
    "plt.scatter(X, y)\n",
    "plt.plot(X, h, color='red', linestyle='--',label='linear regression')\n",
    "plt.plot(X, h_nn, color='green', linestyle='--', label='neural network')\n",
    "plt.plot(X, y_pred, color='purple', linestyle='--', label='gridsearchcv')\n",
    "plt.legend()\n",
    "plt.show()\n",
    "for p,m in zip([h, h_nn, y_pred],['linear regression','neural network','gridsearchcv']):\n",
    "    rmse = root_mean_squared_error(y, p)\n",
    "    print(f'{m},rmse={rmse:.4f}')"
   ]
  },
  {
   "cell_type": "code",
   "execution_count": null,
   "id": "864b03d5",
   "metadata": {},
   "outputs": [],
   "source": []
  },
  {
   "cell_type": "code",
   "execution_count": null,
   "id": "18e43e45",
   "metadata": {},
   "outputs": [],
   "source": []
  }
 ],
 "metadata": {
  "kernelspec": {
   "display_name": "base",
   "language": "python",
   "name": "python3"
  },
  "language_info": {
   "codemirror_mode": {
    "name": "ipython",
    "version": 3
   },
   "file_extension": ".py",
   "mimetype": "text/x-python",
   "name": "python",
   "nbconvert_exporter": "python",
   "pygments_lexer": "ipython3",
   "version": "3.12.7"
  }
 },
 "nbformat": 4,
 "nbformat_minor": 5
}
