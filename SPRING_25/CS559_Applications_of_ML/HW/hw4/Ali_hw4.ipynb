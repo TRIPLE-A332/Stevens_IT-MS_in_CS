{
 "cells": [
  {
   "cell_type": "markdown",
   "metadata": {},
   "source": [
    "## Ali Abdullah Ahmad   \n",
    "## CWID - 20031246"
   ]
  },
  {
   "cell_type": "code",
   "execution_count": 1,
   "metadata": {},
   "outputs": [],
   "source": [
    "import pandas as pd\n",
    "import numpy as np\n",
    "from sklearn.model_selection import train_test_split\n"
   ]
  },
  {
   "cell_type": "code",
   "execution_count": null,
   "metadata": {},
   "outputs": [],
   "source": [
    "#Importing Trained data from hw3\n",
    "df = pd.read_csv('D:/Stevens GIT/Stevens_IT-MS_in_CS/SPRING_25/CS559_Applications_of_ML/HW/hw3/train_data_processed.csv')"
   ]
  },
  {
   "cell_type": "code",
   "execution_count": null,
   "metadata": {},
   "outputs": [
    {
     "name": "stdout",
     "output_type": "stream",
     "text": [
      "   AtBat  HmRun  RBI  Walks  Years  CHmRun  PutOuts  Assists  Errors  \\\n",
      "0    550     29   91     71      6     117     1218      104      10   \n",
      "1    190      2    8     15      5       5      102      177      16   \n",
      "2    629     18  102     40     18     164     1067      157      14   \n",
      "3    181      6   23     22      1       6       88        0       3   \n",
      "4    441     16   73     80     14     209       97      218      16   \n",
      "\n",
      "   League_N  Division_W  NewLeague_N  Hits_per_AtBat  \n",
      "0     False        True        False        0.266788  \n",
      "1     False        True        False        0.240838  \n",
      "2     False       False        False        0.266667  \n",
      "3      True        True         True        0.318681  \n",
      "4     False        True        False        0.289593  \n"
     ]
    },
    {
     "data": {
      "text/plain": [
       "0    1310.000\n",
       "1     175.000\n",
       "2     776.667\n",
       "3      86.500\n",
       "4    1500.000\n",
       "Name: Salary, dtype: float64"
      ]
     },
     "execution_count": 9,
     "metadata": {},
     "output_type": "execute_result"
    }
   ],
   "source": [
    "X = df.drop(columns=['Salary'])\n",
    "y = df['Salary']\n"
   ]
  },
  {
   "cell_type": "code",
   "execution_count": null,
   "metadata": {},
   "outputs": [],
   "source": []
  }
 ],
 "metadata": {
  "kernelspec": {
   "display_name": "base",
   "language": "python",
   "name": "python3"
  },
  "language_info": {
   "codemirror_mode": {
    "name": "ipython",
    "version": 3
   },
   "file_extension": ".py",
   "mimetype": "text/x-python",
   "name": "python",
   "nbconvert_exporter": "python",
   "pygments_lexer": "ipython3",
   "version": "3.12.7"
  }
 },
 "nbformat": 4,
 "nbformat_minor": 2
}
