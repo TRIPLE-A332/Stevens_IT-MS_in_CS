{
  "cells": [
    {
      "cell_type": "markdown",
      "metadata": {
        "id": "iAYeaWbXjEFK"
      },
      "source": [
        "In this lab, we'll implement a Neural Network using Keras for handwritten digit recognition, working with the MNIST dataset. The MNIST dataset is a collection of 70,000 grayscale images of handwritten digits (0-9), where each image is a 28x28 pixel square, widely used for training and testing machine learning models for image classification and computer vision tasks."
      ]
    },
    {
      "cell_type": "markdown",
      "metadata": {
        "id": "9iDK_JJYlKI6"
      },
      "source": [
        "1. Load the MNIST dataset from Keras, splitting it into training and testing sets, and print the shapes of the features (X) and target variables (y) for both sets:"
      ]
    },
    {
      "cell_type": "code",
      "execution_count": null,
      "metadata": {
        "colab": {
          "base_uri": "https://localhost:8080/"
        },
        "id": "9g5ADF6wj3ZC",
        "outputId": "bbf29868-326b-4c3f-ba0f-67d220f7799f"
      },
      "outputs": [
        {
          "output_type": "stream",
          "name": "stdout",
          "text": [
            "x_train shape: (60000, 28, 28)\n",
            "x_test shape: (10000, 28, 28)\n",
            "y_train shape: (60000,)\n",
            "y_test shape: (10000,)\n"
          ]
        }
      ],
      "source": [
        "from keras.datasets import mnist\n",
        "(x_train, y_train), (x_test, y_test) = mnist.load_data()\n",
        "print(\"x_train shape:\", x_train.shape)\n",
        "print(\"x_test shape:\", x_test.shape)\n",
        "print(\"y_train shape:\", y_train.shape)\n",
        "print(\"y_test shape:\", y_test.shape)"
      ]
    },
    {
      "cell_type": "markdown",
      "metadata": {
        "id": "MAAZrxvYmJJk"
      },
      "source": [
        "2. **Vectorization**: Convert the $28x28$ images to 784-dimensional vectors."
      ]
    },
    {
      "cell_type": "code",
      "execution_count": null,
      "metadata": {
        "colab": {
          "base_uri": "https://localhost:8080/"
        },
        "id": "gBTADmammQnD",
        "outputId": "cc383416-5bf9-4d92-de5a-8fcda73c2b6c"
      },
      "outputs": [
        {
          "output_type": "stream",
          "name": "stdout",
          "text": [
            "Shape of x_train_vec is : (60000, 784)\n",
            "Shape of x_test_vec is : (10000, 784)\n"
          ]
        }
      ],
      "source": [
        "x_train_vec = x_train.reshape(60000, 784)\n",
        "x_test_vec = x_test.reshape(10000, 784)\n",
        "print(\"Shape of x_train_vec is :\", x_train_vec.shape)\n",
        "print(\"Shape of x_test_vec is :\", x_test_vec.shape)"
      ]
    },
    {
      "cell_type": "markdown",
      "metadata": {
        "id": "K32ISKlCmpXJ"
      },
      "source": [
        "3. **One-hot encode**: Convert the labels (an integer in {0,1,..., 9}) to 10-dims vectors."
      ]
    },
    {
      "cell_type": "code",
      "execution_count": null,
      "metadata": {
        "colab": {
          "base_uri": "https://localhost:8080/"
        },
        "id": "sYuDaiddmbMA",
        "outputId": "f56e6819-e29c-4874-b364-922c73abbf07"
      },
      "outputs": [
        {
          "output_type": "stream",
          "name": "stdout",
          "text": [
            "Shape of y_train_vec is : (60000, 10)\n"
          ]
        }
      ],
      "source": [
        "import numpy as np\n",
        "def to_one_hot(labels, dimension = 10):\n",
        "    results = np.zeros((len(labels), dimension))\n",
        "    for i, label in enumerate(labels):\n",
        "        results[i, label] = 1.\n",
        "    return results\n",
        "\n",
        "y_train_vec = to_one_hot(y_train)\n",
        "y_test_vec = to_one_hot(y_test)\n",
        "print(\"Shape of y_train_vec is :\", y_train_vec.shape)"
      ]
    },
    {
      "cell_type": "markdown",
      "metadata": {
        "id": "FTCY5cZLpvbL"
      },
      "source": [
        "4. Partition the training set to trainign and validation sets."
      ]
    },
    {
      "cell_type": "code",
      "execution_count": null,
      "metadata": {
        "colab": {
          "base_uri": "https://localhost:8080/"
        },
        "id": "LG-_vuANncAz",
        "outputId": "4f0eab92-6bf2-47b9-e976-e24b23553d92"
      },
      "outputs": [
        {
          "output_type": "stream",
          "name": "stdout",
          "text": [
            "Shape of x_train_vec is : (50000, 784)\n",
            "Shape of y_train_vec is : (50000, 10)\n",
            "Shape of x_valid_vec is : (10000, 784)\n",
            "Shape of y_val_vec is : (10000, 10)\n"
          ]
        }
      ],
      "source": [
        "rand_indeces = np.random.permutation(60000)\n",
        "train_indeces = rand_indeces[:50000]\n",
        "val_indeces = rand_indeces[50000:]\n",
        "\n",
        "x_valid_vec = x_train_vec[val_indeces]\n",
        "y_val_vec = y_train_vec[val_indeces]\n",
        "\n",
        "x_train_vec = x_train_vec[train_indeces]\n",
        "y_train_vec = y_train_vec[train_indeces]\n",
        "\n",
        "print(\"Shape of x_train_vec is :\", x_train_vec.shape)\n",
        "print(\"Shape of y_train_vec is :\", y_train_vec.shape)\n",
        "print(\"Shape of x_valid_vec is :\", x_valid_vec.shape)\n",
        "print(\"Shape of y_val_vec is :\", y_val_vec.shape)"
      ]
    },
    {
      "cell_type": "markdown",
      "metadata": {
        "id": "9Ok7gpIRqYye"
      },
      "source": [
        "5. Now, we need to build the Neural Network."
      ]
    },
    {
      "cell_type": "code",
      "execution_count": null,
      "metadata": {
        "id": "Bvkn7DMLqetv"
      },
      "outputs": [],
      "source": [
        "from keras import models\n",
        "from keras import layers"
      ]
    },
    {
      "cell_type": "code",
      "execution_count": null,
      "metadata": {
        "id": "Hm0dpHrE2b-f"
      },
      "outputs": [],
      "source": [
        "d1 = 500\n",
        "d2 = 500"
      ]
    },
    {
      "cell_type": "code",
      "execution_count": null,
      "metadata": {
        "id": "3NlXUQ5o9jWw"
      },
      "outputs": [],
      "source": []
    },
    {
      "cell_type": "code",
      "execution_count": null,
      "metadata": {
        "id": "ym1IueZsqhlE",
        "colab": {
          "base_uri": "https://localhost:8080/"
        },
        "outputId": "abbb2b26-59d6-4532-e4e9-35e315f6191f"
      },
      "outputs": [
        {
          "output_type": "stream",
          "name": "stderr",
          "text": [
            "/usr/local/lib/python3.11/dist-packages/keras/src/layers/core/dense.py:87: UserWarning: Do not pass an `input_shape`/`input_dim` argument to a layer. When using Sequential models, prefer using an `Input(shape)` object as the first layer in the model instead.\n",
            "  super().__init__(activity_regularizer=activity_regularizer, **kwargs)\n"
          ]
        }
      ],
      "source": [
        "model = models.Sequential()\n",
        "model.add(layers.Dense(d1, activation='relu', input_shape = (784,)))\n",
        "model.add(layers.Dense(d2, activation='relu'))\n",
        "model.add(layers.Dense(10,activation='softmax'))"
      ]
    },
    {
      "cell_type": "markdown",
      "metadata": {
        "id": "zXp4yg0Wq8BC"
      },
      "source": [
        "6. Specify the optmization algorithm, learning rate(LR), loss function, and metric."
      ]
    },
    {
      "cell_type": "code",
      "execution_count": null,
      "metadata": {
        "id": "JNGWalnCqvOl"
      },
      "outputs": [],
      "source": [
        "from keras import optimizers\n",
        "model.compile(optimizers.RMSprop(learning_rate=0.0001),\n",
        "              loss='categorical_crossentropy',\n",
        "              metrics=['accuracy'])"
      ]
    },
    {
      "cell_type": "markdown",
      "metadata": {
        "id": "SbAH8Kdaryhp"
      },
      "source": [
        "7. Train the model. Dont forget to specify the batch sieze and the number of epochs (1 epoch = 1 pass over the data)."
      ]
    },
    {
      "cell_type": "code",
      "execution_count": null,
      "metadata": {
        "colab": {
          "base_uri": "https://localhost:8080/"
        },
        "id": "8wev_7Fir4cS",
        "outputId": "d6fe1334-a159-4f41-adf6-312ae2b5ac4e"
      },
      "outputs": [
        {
          "output_type": "stream",
          "name": "stdout",
          "text": [
            "Epoch 1/50\n",
            "\u001b[1m391/391\u001b[0m \u001b[32m━━━━━━━━━━━━━━━━━━━━\u001b[0m\u001b[37m\u001b[0m \u001b[1m7s\u001b[0m 16ms/step - accuracy: 0.7451 - loss: 9.2893 - val_accuracy: 0.9226 - val_loss: 1.4505\n",
            "Epoch 2/50\n",
            "\u001b[1m391/391\u001b[0m \u001b[32m━━━━━━━━━━━━━━━━━━━━\u001b[0m\u001b[37m\u001b[0m \u001b[1m10s\u001b[0m 16ms/step - accuracy: 0.9348 - loss: 1.1400 - val_accuracy: 0.9240 - val_loss: 1.3768\n",
            "Epoch 3/50\n",
            "\u001b[1m391/391\u001b[0m \u001b[32m━━━━━━━━━━━━━━━━━━━━\u001b[0m\u001b[37m\u001b[0m \u001b[1m10s\u001b[0m 16ms/step - accuracy: 0.9585 - loss: 0.5308 - val_accuracy: 0.9498 - val_loss: 0.8024\n",
            "Epoch 4/50\n",
            "\u001b[1m391/391\u001b[0m \u001b[32m━━━━━━━━━━━━━━━━━━━━\u001b[0m\u001b[37m\u001b[0m \u001b[1m7s\u001b[0m 18ms/step - accuracy: 0.9721 - loss: 0.2993 - val_accuracy: 0.9394 - val_loss: 1.0557\n",
            "Epoch 5/50\n",
            "\u001b[1m391/391\u001b[0m \u001b[32m━━━━━━━━━━━━━━━━━━━━\u001b[0m\u001b[37m\u001b[0m \u001b[1m9s\u001b[0m 16ms/step - accuracy: 0.9806 - loss: 0.1952 - val_accuracy: 0.9577 - val_loss: 0.7030\n",
            "Epoch 6/50\n",
            "\u001b[1m391/391\u001b[0m \u001b[32m━━━━━━━━━━━━━━━━━━━━\u001b[0m\u001b[37m\u001b[0m \u001b[1m10s\u001b[0m 16ms/step - accuracy: 0.9839 - loss: 0.1329 - val_accuracy: 0.9576 - val_loss: 0.6908\n",
            "Epoch 7/50\n",
            "\u001b[1m391/391\u001b[0m \u001b[32m━━━━━━━━━━━━━━━━━━━━\u001b[0m\u001b[37m\u001b[0m \u001b[1m10s\u001b[0m 16ms/step - accuracy: 0.9881 - loss: 0.0803 - val_accuracy: 0.9534 - val_loss: 0.7795\n",
            "Epoch 8/50\n",
            "\u001b[1m391/391\u001b[0m \u001b[32m━━━━━━━━━━━━━━━━━━━━\u001b[0m\u001b[37m\u001b[0m \u001b[1m7s\u001b[0m 19ms/step - accuracy: 0.9891 - loss: 0.0783 - val_accuracy: 0.9630 - val_loss: 0.6432\n",
            "Epoch 9/50\n",
            "\u001b[1m391/391\u001b[0m \u001b[32m━━━━━━━━━━━━━━━━━━━━\u001b[0m\u001b[37m\u001b[0m \u001b[1m9s\u001b[0m 16ms/step - accuracy: 0.9923 - loss: 0.0502 - val_accuracy: 0.9650 - val_loss: 0.6274\n",
            "Epoch 10/50\n",
            "\u001b[1m391/391\u001b[0m \u001b[32m━━━━━━━━━━━━━━━━━━━━\u001b[0m\u001b[37m\u001b[0m \u001b[1m10s\u001b[0m 16ms/step - accuracy: 0.9930 - loss: 0.0461 - val_accuracy: 0.9645 - val_loss: 0.6394\n",
            "Epoch 11/50\n",
            "\u001b[1m391/391\u001b[0m \u001b[32m━━━━━━━━━━━━━━━━━━━━\u001b[0m\u001b[37m\u001b[0m \u001b[1m10s\u001b[0m 16ms/step - accuracy: 0.9939 - loss: 0.0417 - val_accuracy: 0.9649 - val_loss: 0.6650\n",
            "Epoch 12/50\n",
            "\u001b[1m391/391\u001b[0m \u001b[32m━━━━━━━━━━━━━━━━━━━━\u001b[0m\u001b[37m\u001b[0m \u001b[1m7s\u001b[0m 18ms/step - accuracy: 0.9954 - loss: 0.0301 - val_accuracy: 0.9662 - val_loss: 0.6266\n",
            "Epoch 13/50\n",
            "\u001b[1m391/391\u001b[0m \u001b[32m━━━━━━━━━━━━━━━━━━━━\u001b[0m\u001b[37m\u001b[0m \u001b[1m6s\u001b[0m 16ms/step - accuracy: 0.9958 - loss: 0.0239 - val_accuracy: 0.9687 - val_loss: 0.6049\n",
            "Epoch 14/50\n",
            "\u001b[1m391/391\u001b[0m \u001b[32m━━━━━━━━━━━━━━━━━━━━\u001b[0m\u001b[37m\u001b[0m \u001b[1m10s\u001b[0m 16ms/step - accuracy: 0.9958 - loss: 0.0294 - val_accuracy: 0.9653 - val_loss: 0.6908\n",
            "Epoch 15/50\n",
            "\u001b[1m391/391\u001b[0m \u001b[32m━━━━━━━━━━━━━━━━━━━━\u001b[0m\u001b[37m\u001b[0m \u001b[1m8s\u001b[0m 19ms/step - accuracy: 0.9961 - loss: 0.0220 - val_accuracy: 0.9678 - val_loss: 0.6350\n",
            "Epoch 16/50\n",
            "\u001b[1m391/391\u001b[0m \u001b[32m━━━━━━━━━━━━━━━━━━━━\u001b[0m\u001b[37m\u001b[0m \u001b[1m6s\u001b[0m 16ms/step - accuracy: 0.9966 - loss: 0.0242 - val_accuracy: 0.9618 - val_loss: 0.7743\n",
            "Epoch 17/50\n",
            "\u001b[1m391/391\u001b[0m \u001b[32m━━━━━━━━━━━━━━━━━━━━\u001b[0m\u001b[37m\u001b[0m \u001b[1m7s\u001b[0m 19ms/step - accuracy: 0.9964 - loss: 0.0252 - val_accuracy: 0.9695 - val_loss: 0.6079\n",
            "Epoch 18/50\n",
            "\u001b[1m391/391\u001b[0m \u001b[32m━━━━━━━━━━━━━━━━━━━━\u001b[0m\u001b[37m\u001b[0m \u001b[1m10s\u001b[0m 18ms/step - accuracy: 0.9971 - loss: 0.0187 - val_accuracy: 0.9694 - val_loss: 0.6342\n",
            "Epoch 19/50\n",
            "\u001b[1m391/391\u001b[0m \u001b[32m━━━━━━━━━━━━━━━━━━━━\u001b[0m\u001b[37m\u001b[0m \u001b[1m9s\u001b[0m 16ms/step - accuracy: 0.9969 - loss: 0.0159 - val_accuracy: 0.9683 - val_loss: 0.6133\n",
            "Epoch 20/50\n",
            "\u001b[1m391/391\u001b[0m \u001b[32m━━━━━━━━━━━━━━━━━━━━\u001b[0m\u001b[37m\u001b[0m \u001b[1m10s\u001b[0m 16ms/step - accuracy: 0.9974 - loss: 0.0134 - val_accuracy: 0.9666 - val_loss: 0.7122\n",
            "Epoch 21/50\n",
            "\u001b[1m391/391\u001b[0m \u001b[32m━━━━━━━━━━━━━━━━━━━━\u001b[0m\u001b[37m\u001b[0m \u001b[1m10s\u001b[0m 16ms/step - accuracy: 0.9974 - loss: 0.0178 - val_accuracy: 0.9700 - val_loss: 0.6147\n",
            "Epoch 22/50\n",
            "\u001b[1m391/391\u001b[0m \u001b[32m━━━━━━━━━━━━━━━━━━━━\u001b[0m\u001b[37m\u001b[0m \u001b[1m11s\u001b[0m 18ms/step - accuracy: 0.9976 - loss: 0.0138 - val_accuracy: 0.9678 - val_loss: 0.6907\n",
            "Epoch 23/50\n",
            "\u001b[1m391/391\u001b[0m \u001b[32m━━━━━━━━━━━━━━━━━━━━\u001b[0m\u001b[37m\u001b[0m \u001b[1m7s\u001b[0m 18ms/step - accuracy: 0.9976 - loss: 0.0127 - val_accuracy: 0.9671 - val_loss: 0.7322\n",
            "Epoch 24/50\n",
            "\u001b[1m391/391\u001b[0m \u001b[32m━━━━━━━━━━━━━━━━━━━━\u001b[0m\u001b[37m\u001b[0m \u001b[1m6s\u001b[0m 15ms/step - accuracy: 0.9980 - loss: 0.0120 - val_accuracy: 0.9704 - val_loss: 0.6347\n",
            "Epoch 25/50\n",
            "\u001b[1m391/391\u001b[0m \u001b[32m━━━━━━━━━━━━━━━━━━━━\u001b[0m\u001b[37m\u001b[0m \u001b[1m12s\u001b[0m 19ms/step - accuracy: 0.9977 - loss: 0.0161 - val_accuracy: 0.9682 - val_loss: 0.7024\n",
            "Epoch 26/50\n",
            "\u001b[1m391/391\u001b[0m \u001b[32m━━━━━━━━━━━━━━━━━━━━\u001b[0m\u001b[37m\u001b[0m \u001b[1m10s\u001b[0m 18ms/step - accuracy: 0.9984 - loss: 0.0101 - val_accuracy: 0.9704 - val_loss: 0.6308\n",
            "Epoch 27/50\n",
            "\u001b[1m391/391\u001b[0m \u001b[32m━━━━━━━━━━━━━━━━━━━━\u001b[0m\u001b[37m\u001b[0m \u001b[1m10s\u001b[0m 17ms/step - accuracy: 0.9980 - loss: 0.0105 - val_accuracy: 0.9677 - val_loss: 0.7709\n",
            "Epoch 28/50\n",
            "\u001b[1m391/391\u001b[0m \u001b[32m━━━━━━━━━━━━━━━━━━━━\u001b[0m\u001b[37m\u001b[0m \u001b[1m10s\u001b[0m 16ms/step - accuracy: 0.9981 - loss: 0.0103 - val_accuracy: 0.9696 - val_loss: 0.6408\n",
            "Epoch 29/50\n",
            "\u001b[1m391/391\u001b[0m \u001b[32m━━━━━━━━━━━━━━━━━━━━\u001b[0m\u001b[37m\u001b[0m \u001b[1m10s\u001b[0m 15ms/step - accuracy: 0.9985 - loss: 0.0103 - val_accuracy: 0.9699 - val_loss: 0.6678\n",
            "Epoch 30/50\n",
            "\u001b[1m391/391\u001b[0m \u001b[32m━━━━━━━━━━━━━━━━━━━━\u001b[0m\u001b[37m\u001b[0m \u001b[1m7s\u001b[0m 18ms/step - accuracy: 0.9984 - loss: 0.0076 - val_accuracy: 0.9713 - val_loss: 0.6477\n",
            "Epoch 31/50\n",
            "\u001b[1m391/391\u001b[0m \u001b[32m━━━━━━━━━━━━━━━━━━━━\u001b[0m\u001b[37m\u001b[0m \u001b[1m10s\u001b[0m 17ms/step - accuracy: 0.9984 - loss: 0.0095 - val_accuracy: 0.9696 - val_loss: 0.6607\n",
            "Epoch 32/50\n",
            "\u001b[1m391/391\u001b[0m \u001b[32m━━━━━━━━━━━━━━━━━━━━\u001b[0m\u001b[37m\u001b[0m \u001b[1m9s\u001b[0m 15ms/step - accuracy: 0.9990 - loss: 0.0056 - val_accuracy: 0.9724 - val_loss: 0.6299\n",
            "Epoch 33/50\n",
            "\u001b[1m391/391\u001b[0m \u001b[32m━━━━━━━━━━━━━━━━━━━━\u001b[0m\u001b[37m\u001b[0m \u001b[1m7s\u001b[0m 19ms/step - accuracy: 0.9991 - loss: 0.0054 - val_accuracy: 0.9719 - val_loss: 0.6140\n",
            "Epoch 34/50\n",
            "\u001b[1m391/391\u001b[0m \u001b[32m━━━━━━━━━━━━━━━━━━━━\u001b[0m\u001b[37m\u001b[0m \u001b[1m6s\u001b[0m 16ms/step - accuracy: 0.9986 - loss: 0.0102 - val_accuracy: 0.9702 - val_loss: 0.7003\n",
            "Epoch 35/50\n",
            "\u001b[1m391/391\u001b[0m \u001b[32m━━━━━━━━━━━━━━━━━━━━\u001b[0m\u001b[37m\u001b[0m \u001b[1m7s\u001b[0m 19ms/step - accuracy: 0.9989 - loss: 0.0068 - val_accuracy: 0.9745 - val_loss: 0.6250\n",
            "Epoch 36/50\n",
            "\u001b[1m391/391\u001b[0m \u001b[32m━━━━━━━━━━━━━━━━━━━━\u001b[0m\u001b[37m\u001b[0m \u001b[1m10s\u001b[0m 18ms/step - accuracy: 0.9991 - loss: 0.0053 - val_accuracy: 0.9725 - val_loss: 0.6433\n",
            "Epoch 37/50\n",
            "\u001b[1m391/391\u001b[0m \u001b[32m━━━━━━━━━━━━━━━━━━━━\u001b[0m\u001b[37m\u001b[0m \u001b[1m9s\u001b[0m 16ms/step - accuracy: 0.9987 - loss: 0.0090 - val_accuracy: 0.9736 - val_loss: 0.6175\n",
            "Epoch 38/50\n",
            "\u001b[1m391/391\u001b[0m \u001b[32m━━━━━━━━━━━━━━━━━━━━\u001b[0m\u001b[37m\u001b[0m \u001b[1m10s\u001b[0m 15ms/step - accuracy: 0.9990 - loss: 0.0046 - val_accuracy: 0.9746 - val_loss: 0.5907\n",
            "Epoch 39/50\n",
            "\u001b[1m391/391\u001b[0m \u001b[32m━━━━━━━━━━━━━━━━━━━━\u001b[0m\u001b[37m\u001b[0m \u001b[1m7s\u001b[0m 18ms/step - accuracy: 0.9993 - loss: 0.0033 - val_accuracy: 0.9725 - val_loss: 0.6588\n",
            "Epoch 40/50\n",
            "\u001b[1m391/391\u001b[0m \u001b[32m━━━━━━━━━━━━━━━━━━━━\u001b[0m\u001b[37m\u001b[0m \u001b[1m6s\u001b[0m 16ms/step - accuracy: 0.9988 - loss: 0.0079 - val_accuracy: 0.9726 - val_loss: 0.6341\n",
            "Epoch 41/50\n",
            "\u001b[1m391/391\u001b[0m \u001b[32m━━━━━━━━━━━━━━━━━━━━\u001b[0m\u001b[37m\u001b[0m \u001b[1m10s\u001b[0m 16ms/step - accuracy: 0.9987 - loss: 0.0107 - val_accuracy: 0.9723 - val_loss: 0.5974\n",
            "Epoch 42/50\n",
            "\u001b[1m391/391\u001b[0m \u001b[32m━━━━━━━━━━━━━━━━━━━━\u001b[0m\u001b[37m\u001b[0m \u001b[1m7s\u001b[0m 19ms/step - accuracy: 0.9992 - loss: 0.0051 - val_accuracy: 0.9712 - val_loss: 0.7317\n",
            "Epoch 43/50\n",
            "\u001b[1m391/391\u001b[0m \u001b[32m━━━━━━━━━━━━━━━━━━━━\u001b[0m\u001b[37m\u001b[0m \u001b[1m10s\u001b[0m 18ms/step - accuracy: 0.9991 - loss: 0.0077 - val_accuracy: 0.9737 - val_loss: 0.6441\n",
            "Epoch 44/50\n",
            "\u001b[1m391/391\u001b[0m \u001b[32m━━━━━━━━━━━━━━━━━━━━\u001b[0m\u001b[37m\u001b[0m \u001b[1m10s\u001b[0m 16ms/step - accuracy: 0.9993 - loss: 0.0068 - val_accuracy: 0.9732 - val_loss: 0.6389\n",
            "Epoch 45/50\n",
            "\u001b[1m391/391\u001b[0m \u001b[32m━━━━━━━━━━━━━━━━━━━━\u001b[0m\u001b[37m\u001b[0m \u001b[1m10s\u001b[0m 16ms/step - accuracy: 0.9991 - loss: 0.0055 - val_accuracy: 0.9744 - val_loss: 0.6221\n",
            "Epoch 46/50\n",
            "\u001b[1m391/391\u001b[0m \u001b[32m━━━━━━━━━━━━━━━━━━━━\u001b[0m\u001b[37m\u001b[0m \u001b[1m10s\u001b[0m 16ms/step - accuracy: 0.9989 - loss: 0.0067 - val_accuracy: 0.9716 - val_loss: 0.6910\n",
            "Epoch 47/50\n",
            "\u001b[1m391/391\u001b[0m \u001b[32m━━━━━━━━━━━━━━━━━━━━\u001b[0m\u001b[37m\u001b[0m \u001b[1m11s\u001b[0m 18ms/step - accuracy: 0.9985 - loss: 0.0086 - val_accuracy: 0.9745 - val_loss: 0.6688\n",
            "Epoch 48/50\n",
            "\u001b[1m391/391\u001b[0m \u001b[32m━━━━━━━━━━━━━━━━━━━━\u001b[0m\u001b[37m\u001b[0m \u001b[1m11s\u001b[0m 19ms/step - accuracy: 0.9996 - loss: 0.0028 - val_accuracy: 0.9731 - val_loss: 0.7235\n",
            "Epoch 49/50\n",
            "\u001b[1m391/391\u001b[0m \u001b[32m━━━━━━━━━━━━━━━━━━━━\u001b[0m\u001b[37m\u001b[0m \u001b[1m6s\u001b[0m 16ms/step - accuracy: 0.9994 - loss: 0.0044 - val_accuracy: 0.9709 - val_loss: 0.7442\n",
            "Epoch 50/50\n",
            "\u001b[1m391/391\u001b[0m \u001b[32m━━━━━━━━━━━━━━━━━━━━\u001b[0m\u001b[37m\u001b[0m \u001b[1m7s\u001b[0m 19ms/step - accuracy: 0.9990 - loss: 0.0053 - val_accuracy: 0.9746 - val_loss: 0.6465\n"
          ]
        }
      ],
      "source": [
        "history = model.fit(x_train_vec, y_train_vec, epochs=50, batch_size=128, validation_data=(x_valid_vec, y_val_vec))"
      ]
    },
    {
      "cell_type": "markdown",
      "metadata": {
        "id": "a6zxQti-shL_"
      },
      "source": [
        "8. Now, we are ready to examine the results. We can plot the accuracy against the number of epochs for both the training set and valiation set."
      ]
    },
    {
      "cell_type": "code",
      "execution_count": null,
      "metadata": {
        "colab": {
          "base_uri": "https://localhost:8080/",
          "height": 452
        },
        "id": "cmALnx3sr7fG",
        "outputId": "12f687ba-e411-4e55-ed65-5d40354f7125"
      },
      "outputs": [
        {
          "data": {
            "image/png": "[encoded data removed]",
            "text/plain": [
              "<Figure size 640x480 with 1 Axes>"
            ]
          },
          "metadata": {},
          "output_type": "display_data"
        }
      ],
      "source": [
        "import matplotlib.pyplot as plt\n",
        "%matplotlib inline\n",
        "epochs = range(50)\n",
        "train_acc = history.history['accuracy']\n",
        "val_acc = history.history['val_accuracy']\n",
        "plt.plot(epochs, train_acc, 'bo', label='Training acc')\n",
        "plt.plot(epochs, val_acc, 'r', label='Validation acc')\n",
        "plt.title('Training and validation accuracy')\n",
        "plt.legend()\n",
        "plt.show()\n"
      ]
    },
    {
      "cell_type": "markdown",
      "metadata": {
        "id": "YStbA2JVuX1A"
      },
      "source": [
        "9. Evaluate the model on the test set."
      ]
    },
    {
      "cell_type": "code",
      "execution_count": null,
      "metadata": {
        "colab": {
          "base_uri": "https://localhost:8080/"
        },
        "id": "x5RUL8BDsd7I",
        "outputId": "d47514a4-2f12-4a75-9931-c97b81d2d4c8"
      },
      "outputs": [
        {
          "name": "stdout",
          "output_type": "stream",
          "text": [
            "\u001b[1m313/313\u001b[0m \u001b[32m━━━━━━━━━━━━━━━━━━━━\u001b[0m\u001b[37m\u001b[0m \u001b[1m2s\u001b[0m 7ms/step - accuracy: 0.9668 - loss: 0.7521\n",
            "Test loss is : 0.636873722076416\n",
            "Test accuracy is : 0.9731000065803528\n"
          ]
        }
      ],
      "source": [
        "loss_and_acc = model.evaluate(x_test_vec, y_test_vec)\n",
        "print(\"Test loss is :\", loss_and_acc[0])\n",
        "print(\"Test accuracy is :\", loss_and_acc[1])"
      ]
    },
    {
      "cell_type": "code",
      "execution_count": null,
      "metadata": {
        "id": "C2dZJZx05CIQ"
      },
      "outputs": [],
      "source": []
    }
  ],
  "metadata": {
    "colab": {
      "provenance": []
    },
    "kernelspec": {
      "display_name": "Python 3",
      "name": "python3"
    },
    "language_info": {
      "name": "python"
    }
  },
  "nbformat": 4,
  "nbformat_minor": 0
}