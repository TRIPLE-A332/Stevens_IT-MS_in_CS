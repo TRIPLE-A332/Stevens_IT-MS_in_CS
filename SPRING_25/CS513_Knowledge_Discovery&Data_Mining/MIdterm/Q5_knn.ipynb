{
 "cells": [
  {
   "cell_type": "markdown",
   "metadata": {},
   "source": [
    "# Ali Abdullah Ahmad\n",
    "\n",
    "### #5 (15 Points)\n",
    "Load the “hepatitis_B2.csv” dataset, from the Raw_data module in CANVAS,\n",
    "into Python. This is a variation of the hepatitis dataset used for predicting\n",
    "“Patient mortality”. Construct a knn model to classify “patient death” based on\n",
    "only the AGE, SEX, ASCITES, BILIRUBIN, ALK_PHOSPHATE, SGOT, ALBUMIN\n",
    "attributes (K=1,3,5,7)"
   ]
  },
  {
   "cell_type": "code",
   "execution_count": 47,
   "metadata": {},
   "outputs": [],
   "source": [
    "import pandas as pd\n",
    "from sklearn.model_selection import train_test_split\n",
    "from sklearn.metrics import accuracy_score\n",
    "from sklearn.metrics import confusion_matrix\n",
    "from sklearn.metrics import classification_report\n",
    "from sklearn.preprocessing import StandardScaler\n",
    "from sklearn.neighbors import KNeighborsClassifier\n",
    "df = pd.read_csv('D:/Stevens GIT/Stevens_IT-MS_in_CS/SPRING_25/CS513_Knowledge_Discovery&Data_Mining/MIdterm/hepatitis_B2.csv')"
   ]
  },
  {
   "cell_type": "code",
   "execution_count": null,
   "metadata": {},
   "outputs": [
    {
     "name": "stdout",
     "output_type": "stream",
     "text": [
      "   Class  AGE  SEX  ASCITES  BILIRUBIN  ALK_PHOSPHATE  SGOT  ALBUMIN\n",
      "0      1   39    1        2        2.3            280    98      3.8\n",
      "1      1   37    1        2        0.6             67    28      4.2\n",
      "2      1   58    1        2        2.0            167   242      3.3\n",
      "3      1   30    1        1        2.5            165    64      2.8\n",
      "4      1   38    1        1        1.2            118    16      2.8\n",
      "Class            0\n",
      "AGE              0\n",
      "SEX              0\n",
      "ASCITES          0\n",
      "BILIRUBIN        0\n",
      "ALK_PHOSPHATE    0\n",
      "SGOT             0\n",
      "ALBUMIN          0\n",
      "dtype: int64\n",
      "Class              int64\n",
      "AGE                int64\n",
      "SEX                int64\n",
      "ASCITES            int64\n",
      "BILIRUBIN        float64\n",
      "ALK_PHOSPHATE      int64\n",
      "SGOT               int64\n",
      "ALBUMIN          float64\n",
      "dtype: object\n",
      "           Class       AGE        SEX    ASCITES  BILIRUBIN  ALK_PHOSPHATE  \\\n",
      "count  40.000000  40.00000  40.000000  40.000000  40.000000       40.00000   \n",
      "mean    1.525000  42.35000   1.100000   1.750000   1.490000      101.97500   \n",
      "std     0.505736  11.86797   0.303822   0.438529   1.091647       51.05125   \n",
      "min     1.000000  22.00000   1.000000   1.000000   0.400000       45.00000   \n",
      "25%     1.000000  33.75000   1.000000   1.750000   0.775000       66.50000   \n",
      "50%     2.000000  40.50000   1.000000   2.000000   1.100000       85.00000   \n",
      "75%     2.000000  49.00000   1.000000   2.000000   2.000000      119.25000   \n",
      "max     2.000000  78.00000   2.000000   2.000000   4.800000      280.00000   \n",
      "\n",
      "             SGOT    ALBUMIN  \n",
      "count   40.000000  40.000000  \n",
      "mean    71.825000   3.645000  \n",
      "std     59.340775   0.651212  \n",
      "min     16.000000   2.100000  \n",
      "25%     28.000000   3.250000  \n",
      "50%     54.000000   3.800000  \n",
      "75%     91.250000   4.100000  \n",
      "max    249.000000   4.900000  \n"
     ]
    }
   ],
   "source": [
    "# Select only the relevant columns for the analysis\n",
    "df = df[['Class','AGE','SEX','ASCITES','BILIRUBIN','ALK_PHOSPHATE','SGOT','ALBUMIN']]\n",
    "\n",
    "# Display the first few rows of the dataframe to verify the selection\n",
    "print(df.head())\n",
    "\n",
    "# Check for any missing values in the dataframe\n",
    "print(df.isnull().sum())\n",
    "\n",
    "# Display the data types of each column to understand the data better\n",
    "print(df.dtypes)\n",
    "\n",
    "# Generate descriptive statistics for the dataframe\n",
    "print(df.describe())"
   ]
  },
  {
   "cell_type": "code",
   "execution_count": null,
   "metadata": {},
   "outputs": [
    {
     "name": "stdout",
     "output_type": "stream",
     "text": [
      "(32, 7)\n",
      "(8, 7)\n",
      "(32,)\n",
      "(8,)\n"
     ]
    }
   ],
   "source": [
    "# Separate the features (X) from the target variable (y)\n",
    "X = df.drop(columns=['Class'])\n",
    "y = df['Class']\n",
    "\n",
    "# Split the data into training and testing sets\n",
    "# 80% of the data will be used for training and 20% for testing\n",
    "X_train, X_test, y_train, y_test = train_test_split(X, y, test_size=0.2, random_state=42)\n",
    "\n",
    "# Print the shape of the training and testing sets to verify the split\n",
    "print(X_train.shape)\n",
    "print(X_test.shape)\n",
    "print(y_train.shape)\n",
    "print(y_test.shape)"
   ]
  },
  {
   "cell_type": "code",
   "execution_count": 50,
   "metadata": {},
   "outputs": [],
   "source": [
    "# Standardize the features\n",
    "scaler = StandardScaler()\n",
    "X_train = scaler.fit_transform(X_train)\n",
    "X_test = scaler.transform(X_test)"
   ]
  },
  {
   "cell_type": "code",
   "execution_count": null,
   "metadata": {},
   "outputs": [
    {
     "name": "stdout",
     "output_type": "stream",
     "text": [
      "Accuracy for k = 1 is 0.75\n",
      "[[3 1]\n",
      " [1 3]]\n",
      "              precision    recall  f1-score   support\n",
      "\n",
      "           1       0.75      0.75      0.75         4\n",
      "           2       0.75      0.75      0.75         4\n",
      "\n",
      "    accuracy                           0.75         8\n",
      "   macro avg       0.75      0.75      0.75         8\n",
      "weighted avg       0.75      0.75      0.75         8\n",
      "\n",
      "Accuracy for k = 3 is 0.75\n",
      "[[3 1]\n",
      " [1 3]]\n",
      "              precision    recall  f1-score   support\n",
      "\n",
      "           1       0.75      0.75      0.75         4\n",
      "           2       0.75      0.75      0.75         4\n",
      "\n",
      "    accuracy                           0.75         8\n",
      "   macro avg       0.75      0.75      0.75         8\n",
      "weighted avg       0.75      0.75      0.75         8\n",
      "\n",
      "Accuracy for k = 5 is 0.75\n",
      "[[3 1]\n",
      " [1 3]]\n",
      "              precision    recall  f1-score   support\n",
      "\n",
      "           1       0.75      0.75      0.75         4\n",
      "           2       0.75      0.75      0.75         4\n",
      "\n",
      "    accuracy                           0.75         8\n",
      "   macro avg       0.75      0.75      0.75         8\n",
      "weighted avg       0.75      0.75      0.75         8\n",
      "\n",
      "Accuracy for k = 7 is 0.75\n",
      "[[3 1]\n",
      " [1 3]]\n",
      "              precision    recall  f1-score   support\n",
      "\n",
      "           1       0.75      0.75      0.75         4\n",
      "           2       0.75      0.75      0.75         4\n",
      "\n",
      "    accuracy                           0.75         8\n",
      "   macro avg       0.75      0.75      0.75         8\n",
      "weighted avg       0.75      0.75      0.75         8\n",
      "\n"
     ]
    }
   ],
   "source": [
    "# List of k values to try for the KNN model\n",
    "K = [1, 3, 5, 7]\n",
    "\n",
    "# Loop through each k value\n",
    "for val in K:\n",
    "    # Initialize the KNeighborsClassifier with the current k value\n",
    "    model = KNeighborsClassifier(n_neighbors=val)\n",
    "    \n",
    "    # Fit the model on the training data\n",
    "    model.fit(X_train, y_train)\n",
    "    \n",
    "    # Predict the target variable for the test data\n",
    "    predict = model.predict(X_test)\n",
    "    \n",
    "    # Calculate the accuracy of the model\n",
    "    accuracy = accuracy_score(predict, y_test)\n",
    "    \n",
    "    # Print the accuracy for the current k value\n",
    "    print(f'Accuracy for k = {val} is {accuracy}')\n",
    "    \n",
    "    # Print the confusion matrix for the current k value\n",
    "    print(confusion_matrix(predict, y_test))\n",
    "    \n",
    "    # Print the classification report for the current k value\n",
    "    print(classification_report(predict, y_test))\n",
    "    "
   ]
  }
 ],
 "metadata": {
  "kernelspec": {
   "display_name": "base",
   "language": "python",
   "name": "python3"
  },
  "language_info": {
   "codemirror_mode": {
    "name": "ipython",
    "version": 3
   },
   "file_extension": ".py",
   "mimetype": "text/x-python",
   "name": "python",
   "nbconvert_exporter": "python",
   "pygments_lexer": "ipython3",
   "version": "3.12.7"
  }
 },
 "nbformat": 4,
 "nbformat_minor": 2
}
